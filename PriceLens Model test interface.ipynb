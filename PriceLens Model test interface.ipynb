{
 "cells": [
  {
   "cell_type": "code",
   "execution_count": null,
   "id": "c62699a4-8d82-48f1-b7eb-64c528bef5da",
   "metadata": {},
   "outputs": [
    {
     "name": "stdout",
     "output_type": "stream",
     "text": [
      "🏡 Property Price Estimator 🏡\n",
      "========================================\n"
     ]
    },
    {
     "name": "stdin",
     "output_type": "stream",
     "text": [
      "Enter State (Lagos/Abuja):  Lagos\n"
     ]
    },
    {
     "name": "stdout",
     "output_type": "stream",
     "text": [
      "\n",
      "Some Towns: Agbara-Igbesa, Agege, Ajah, Alimosho, Amuwo Odofin, Apapa, Apo, Asokoro District, Ayobo, Badagry...\n"
     ]
    },
    {
     "name": "stdin",
     "output_type": "stream",
     "text": [
      "Enter Town:  Ajah\n",
      "Enter number of Bedrooms:  2\n",
      "Enter number of Bathrooms:  2\n",
      "Enter number of Toilets:  1\n",
      "Enter number of Parking Spaces:  2\n"
     ]
    },
    {
     "name": "stdout",
     "output_type": "stream",
     "text": [
      "\n",
      "Some Property Types: Block of Flats, Detached Bungalow, Detached Duplex, Semi Detached Bungalow, Semi Detached Duplex, Terraced Bungalow, Terraced Duplexes...\n"
     ]
    },
    {
     "name": "stdin",
     "output_type": "stream",
     "text": [
      "Enter Property Type (from Title):  Block of Flats\n",
      "Listing Type (Rent/Sale):  Rent\n"
     ]
    },
    {
     "name": "stdout",
     "output_type": "stream",
     "text": [
      "\n",
      "Data sent to model: {'bedrooms': 2, 'bathrooms': 2, 'toilets': 1, 'parking_space': 2, 'title': 'Block of Flats', 'town': 'Ajah', 'state': 'Lagos', 'listing_type': 'Rent'}\n",
      "\n",
      "============================================================\n",
      "🏡 PROPERTY PRICE ESTIMATE 🏡\n",
      "============================================================\n",
      "Bedrooms: 2\n",
      "Bathrooms: 2\n",
      "Toilets: 1\n",
      "Parking Space: 2\n",
      "Title: Block of Flats\n",
      "Town: Ajah\n",
      "State: Lagos\n",
      "Listing Type: Rent\n",
      "------------------------------------------------------------\n",
      "💰 Estimated Price: ₦66,083,804.61\n",
      "============================================================\n"
     ]
    },
    {
     "name": "stdin",
     "output_type": "stream",
     "text": [
      "\n",
      "Would you like another estimate? (y/n):  y\n"
     ]
    },
    {
     "name": "stdout",
     "output_type": "stream",
     "text": [
      "🏡 Property Price Estimator 🏡\n",
      "========================================\n"
     ]
    },
    {
     "name": "stdin",
     "output_type": "stream",
     "text": [
      "Enter State (Lagos/Abuja):  Abuja\n"
     ]
    },
    {
     "name": "stdout",
     "output_type": "stream",
     "text": [
      "\n",
      "Some Towns: Agbara-Igbesa, Agege, Ajah, Alimosho, Amuwo Odofin, Apapa, Apo, Asokoro District, Ayobo, Badagry...\n"
     ]
    },
    {
     "name": "stdin",
     "output_type": "stream",
     "text": [
      "Enter Town:  Gwagwalada\n",
      "Enter number of Bedrooms:  5\n",
      "Enter number of Bathrooms:  6\n",
      "Enter number of Toilets:  7\n",
      "Enter number of Parking Spaces:  10\n"
     ]
    },
    {
     "name": "stdout",
     "output_type": "stream",
     "text": [
      "\n",
      "Some Property Types: Block of Flats, Detached Bungalow, Detached Duplex, Semi Detached Bungalow, Semi Detached Duplex, Terraced Bungalow, Terraced Duplexes...\n"
     ]
    },
    {
     "name": "stdin",
     "output_type": "stream",
     "text": [
      "Enter Property Type (from Title):  Terraced Duplex\n"
     ]
    },
    {
     "name": "stdout",
     "output_type": "stream",
     "text": [
      "Not found. Want to see all types?\n"
     ]
    },
    {
     "name": "stdin",
     "output_type": "stream",
     "text": [
      "Show all types? (y/n):  y\n"
     ]
    },
    {
     "name": "stdout",
     "output_type": "stream",
     "text": [
      "Available types: Block of Flats, Detached Bungalow, Detached Duplex, Semi Detached Bungalow, Semi Detached Duplex, Terraced Bungalow, Terraced Duplexes\n"
     ]
    },
    {
     "name": "stdin",
     "output_type": "stream",
     "text": [
      "Enter Property Type (from Title):  Terraced Duplexes\n",
      "Listing Type (Rent/Sale):  Sale\n"
     ]
    },
    {
     "name": "stdout",
     "output_type": "stream",
     "text": [
      "\n",
      "Data sent to model: {'bedrooms': 5, 'bathrooms': 6, 'toilets': 7, 'parking_space': 10, 'title': 'Terraced Duplexes', 'town': 'Gwagwalada', 'state': 'Abuja', 'listing_type': 'Sale'}\n",
      "\n",
      "============================================================\n",
      "🏡 PROPERTY PRICE ESTIMATE 🏡\n",
      "============================================================\n",
      "Bedrooms: 5\n",
      "Bathrooms: 6\n",
      "Toilets: 7\n",
      "Parking Space: 10\n",
      "Title: Terraced Duplexes\n",
      "Town: Gwagwalada\n",
      "State: Abuja\n",
      "Listing Type: Sale\n",
      "------------------------------------------------------------\n",
      "💰 Estimated Price: ₦49,211,885.79\n",
      "============================================================\n"
     ]
    },
    {
     "name": "stdin",
     "output_type": "stream",
     "text": [
      "\n",
      "Would you like another estimate? (y/n):  y\n"
     ]
    },
    {
     "name": "stdout",
     "output_type": "stream",
     "text": [
      "🏡 Property Price Estimator 🏡\n",
      "========================================\n"
     ]
    },
    {
     "name": "stdin",
     "output_type": "stream",
     "text": [
      "Enter State (Lagos/Abuja):  Lagos\n"
     ]
    },
    {
     "name": "stdout",
     "output_type": "stream",
     "text": [
      "\n",
      "Some Towns: Agbara-Igbesa, Agege, Ajah, Alimosho, Amuwo Odofin, Apapa, Apo, Asokoro District, Ayobo, Badagry...\n"
     ]
    },
    {
     "name": "stdin",
     "output_type": "stream",
     "text": [
      "Enter Town:  Lekki\n",
      "Enter number of Bedrooms:  5\n",
      "Enter number of Bathrooms:  5\n",
      "Enter number of Toilets:  6\n",
      "Enter number of Parking Spaces:  10\n"
     ]
    },
    {
     "name": "stdout",
     "output_type": "stream",
     "text": [
      "\n",
      "Some Property Types: Block of Flats, Detached Bungalow, Detached Duplex, Semi Detached Bungalow, Semi Detached Duplex, Terraced Bungalow, Terraced Duplexes...\n"
     ]
    },
    {
     "name": "stdin",
     "output_type": "stream",
     "text": [
      "Enter Property Type (from Title):  Terraced Duplexes\n",
      "Listing Type (Rent/Sale):  Sale\n"
     ]
    },
    {
     "name": "stdout",
     "output_type": "stream",
     "text": [
      "\n",
      "Data sent to model: {'bedrooms': 5, 'bathrooms': 5, 'toilets': 6, 'parking_space': 10, 'title': 'Terraced Duplexes', 'town': 'Lekki', 'state': 'Lagos', 'listing_type': 'Sale'}\n",
      "\n",
      "============================================================\n",
      "🏡 PROPERTY PRICE ESTIMATE 🏡\n",
      "============================================================\n",
      "Bedrooms: 5\n",
      "Bathrooms: 5\n",
      "Toilets: 6\n",
      "Parking Space: 10\n",
      "Title: Terraced Duplexes\n",
      "Town: Lekki\n",
      "State: Lagos\n",
      "Listing Type: Sale\n",
      "------------------------------------------------------------\n",
      "💰 Estimated Price: ₦119,314,846.17\n",
      "============================================================\n"
     ]
    }
   ],
   "source": [
    "import joblib\n",
    "import pandas as pd\n",
    "\n",
    "# Load model\n",
    "model = joblib.load(\"pricelens_gradient_boosting_model.pkl\")\n",
    "\n",
    "# Load dataset to extract valid towns/types\n",
    "df = pd.read_csv(\"PriceLens_clean_dataset.csv\")\n",
    "towns = sorted(df[\"town\"].dropna().unique())\n",
    "titles = sorted(df[\"title\"].dropna().unique())\n",
    "\n",
    "def get_user_input():\n",
    "    print(\"🏡 Property Price Estimator 🏡\")\n",
    "    print(\"=\" * 40)\n",
    "    \n",
    "    # State\n",
    "    while True:\n",
    "        state = input(\"Enter State (Lagos/Abuja): \").strip().title()\n",
    "        if state in [\"Lagos\", \"Abuja\"]:\n",
    "            break\n",
    "        print(\"Please enter either 'Lagos' or 'Abuja'\")\n",
    "    \n",
    "    # Town\n",
    "    print(f\"\\nSome Towns: {', '.join(towns[:10])}...\")\n",
    "    while True:\n",
    "        town = input(\"Enter Town: \").strip()\n",
    "        if town in towns:\n",
    "            break\n",
    "        print(\"Town not found. Please check spelling or try another\")\n",
    "        if input(\"Show all available towns? (y/n): \").lower() == 'y':\n",
    "            print(\"Available towns:\", ', '.join(towns))\n",
    "    \n",
    "    # Bedrooms\n",
    "    bedrooms = int(input(\"Enter number of Bedrooms: \"))\n",
    "    \n",
    "    # Bathrooms\n",
    "    bathrooms = int(input(\"Enter number of Bathrooms: \"))\n",
    "    \n",
    "    # Toilets\n",
    "    toilets = int(input(\"Enter number of Toilets: \"))\n",
    "    \n",
    "    # Parking space\n",
    "    parking_space = int(input(\"Enter number of Parking Spaces: \"))\n",
    "    \n",
    "    # Property Title\n",
    "    print(f\"\\nSome Property Types: {', '.join(titles[:10])}...\")\n",
    "    while True:\n",
    "        title = input(\"Enter Property Type (from Title): \").strip()\n",
    "        if title in titles:\n",
    "            break\n",
    "        print(\"Not found. Want to see all types?\")\n",
    "        if input(\"Show all types? (y/n): \").lower() == 'y':\n",
    "            print(\"Available types:\", ', '.join(titles))\n",
    "    \n",
    "    # Listing Type (Rent or Sale)\n",
    "    while True:\n",
    "        listing_type = input(\"Listing Type (Rent/Sale): \").strip().title()\n",
    "        if listing_type in [\"Rent\", \"Sale\"]:\n",
    "            break\n",
    "        print(\"Please enter 'Rent' or 'Sale'\")\n",
    "    \n",
    "    return {\n",
    "        \"bedrooms\": bedrooms,\n",
    "        \"bathrooms\": bathrooms,\n",
    "        \"toilets\": toilets,\n",
    "        \"parking_space\": parking_space,\n",
    "        \"title\": title,\n",
    "        \"town\": town,\n",
    "        \"state\": state,\n",
    "        \"listing_type\": listing_type\n",
    "    }\n",
    "\n",
    "def make_prediction(user_input):\n",
    "    # Create DataFrame with correct column order\n",
    "    input_df = pd.DataFrame([user_input])\n",
    "    \n",
    "    # Ensure columns are in the exact order the model expects\n",
    "    expected_columns = ['bedrooms', 'bathrooms', 'toilets', 'parking_space', 'title', 'town', 'state', 'listing_type']\n",
    "    input_df = input_df[expected_columns]\n",
    "    \n",
    "    print(\"\\nData sent to model:\", input_df.to_dict('records')[0])\n",
    "    \n",
    "    try:\n",
    "        prediction = model.predict(input_df)[0]\n",
    "        print(\"\\n\" + \"=\" * 60)\n",
    "        print(\"🏡 PROPERTY PRICE ESTIMATE 🏡\")\n",
    "        print(\"=\" * 60)\n",
    "        for key, val in user_input.items():\n",
    "            print(f\"{key.title().replace('_', ' ')}: {val}\")\n",
    "        print(\"-\" * 60)\n",
    "        print(f\"💰 Estimated Price: ₦{prediction:,.2f}\")\n",
    "        print(\"=\" * 60)\n",
    "    except Exception as e:\n",
    "        print(f\"❌ Prediction Error: {e}\")\n",
    "        print(\"Check if model inputs align.\")\n",
    "        print(\"\\nInput DataFrame structure:\")\n",
    "        print(input_df.info())\n",
    "        print(\"\\nInput DataFrame:\")\n",
    "        print(input_df)\n",
    "\n",
    "def main():\n",
    "    while True:\n",
    "        try:\n",
    "            user_input = get_user_input()\n",
    "            make_prediction(user_input)\n",
    "            another = input(\"\\nWould you like another estimate? (y/n): \").lower()\n",
    "            if another != 'y':\n",
    "                print(\"Thank you for using the Property Price Estimator! 👋\")\n",
    "                break\n",
    "        except KeyboardInterrupt:\n",
    "            print(\"\\n\\nGoodbye! 👋\")\n",
    "            break\n",
    "        except Exception as e:\n",
    "            print(f\"An error occurred: {e}\")\n",
    "            continue\n",
    "\n",
    "# Run it\n",
    "if __name__ == \"__main__\":\n",
    "    main()"
   ]
  },
  {
   "cell_type": "code",
   "execution_count": null,
   "id": "7fb36168-788d-41aa-8f77-b64250af08d0",
   "metadata": {},
   "outputs": [],
   "source": []
  },
  {
   "cell_type": "code",
   "execution_count": null,
   "id": "b824da7a-7cb8-487a-a68c-3529e9a7ef98",
   "metadata": {},
   "outputs": [],
   "source": []
  }
 ],
 "metadata": {
  "kernelspec": {
   "display_name": "Python 3 (ipykernel)",
   "language": "python",
   "name": "python3"
  },
  "language_info": {
   "codemirror_mode": {
    "name": "ipython",
    "version": 3
   },
   "file_extension": ".py",
   "mimetype": "text/x-python",
   "name": "python",
   "nbconvert_exporter": "python",
   "pygments_lexer": "ipython3",
   "version": "3.12.3"
  }
 },
 "nbformat": 4,
 "nbformat_minor": 5
}
